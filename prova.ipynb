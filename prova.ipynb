{
 "cells": [
  {
   "cell_type": "code",
   "execution_count": 1,
   "id": "bb9b5ea1",
   "metadata": {},
   "outputs": [
    {
     "name": "stdout",
     "output_type": "stream",
     "text": [
      "iban_trans == degiro_iban: True\n",
      "bic_trans == degiro_bic: True\n"
     ]
    }
   ],
   "source": [
    "bic_trans = \"BIWBDE33XXX\"\n",
    "iban_trans = \"DE05101308001037943469\"\n",
    "\n",
    "degiro_bic = \"BIWBDE33XXX\"\n",
    "degiro_iban = \"DE05101308001037943469\"\n",
    "\n",
    "\n",
    "print(f\"iban_trans == degiro_iban: {iban_trans == degiro_iban}\")\n",
    "print(f\"bic_trans == degiro_bic: {bic_trans == degiro_bic}\")"
   ]
  },
  {
   "cell_type": "code",
   "execution_count": 6,
   "id": "08618e63",
   "metadata": {},
   "outputs": [],
   "source": [
    "import hashlib\n",
    "def md5(s: str) -> str:             # single place = harder to mistype\n",
    "    return hashlib.md5(s.encode()).hexdigest()"
   ]
  },
  {
   "cell_type": "code",
   "execution_count": 7,
   "id": "17d1d34e",
   "metadata": {},
   "outputs": [
    {
     "data": {
      "text/plain": [
       "True"
      ]
     },
     "execution_count": 7,
     "metadata": {},
     "output_type": "execute_result"
    }
   ],
   "source": [
    "Password = \"d959dd6fcd6e30d7d797e18ed169c1bf\"\n",
    "md5(\"karensecure\") == Password"
   ]
  },
  {
   "cell_type": "code",
   "execution_count": 8,
   "id": "a26c0acc",
   "metadata": {},
   "outputs": [],
   "source": [
    "from Backend.Public_Query import PublicDatabaseService "
   ]
  },
  {
   "cell_type": "code",
   "execution_count": 9,
   "id": "052f89a4",
   "metadata": {},
   "outputs": [],
   "source": [
    "public_db = PublicDatabaseService()\n",
    "user_info = public_db.authenticate_customer(\"karen@gmail.com\")"
   ]
  },
  {
   "cell_type": "code",
   "execution_count": 10,
   "id": "5754b089",
   "metadata": {},
   "outputs": [
    {
     "data": {
      "text/plain": [
       "True"
      ]
     },
     "execution_count": 10,
     "metadata": {},
     "output_type": "execute_result"
    }
   ],
   "source": [
    "user_info[\"Password\"] == md5(\"karensecure\")"
   ]
  },
  {
   "cell_type": "code",
   "execution_count": null,
   "id": "43aef74c",
   "metadata": {},
   "outputs": [],
   "source": []
  }
 ],
 "metadata": {
  "kernelspec": {
   "display_name": "Database_project",
   "language": "python",
   "name": "python3"
  },
  "language_info": {
   "codemirror_mode": {
    "name": "ipython",
    "version": 3
   },
   "file_extension": ".py",
   "mimetype": "text/x-python",
   "name": "python",
   "nbconvert_exporter": "python",
   "pygments_lexer": "ipython3",
   "version": "3.12.9"
  }
 },
 "nbformat": 4,
 "nbformat_minor": 5
}
